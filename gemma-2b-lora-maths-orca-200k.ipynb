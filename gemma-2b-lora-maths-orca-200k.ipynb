{
  "cells": [
    {
      "cell_type": "code",
      "id": "rtEUMsDCpY9YGMxqwZVMZyG9",
      "metadata": {
        "tags": [],
        "id": "rtEUMsDCpY9YGMxqwZVMZyG9",
        "collapsed": true
      },
      "source": [
        "# Install MediaPipe and PyTorch.\n",
        "!pip install peft\n",
        "!pip install torch\n",
        "!pip install huggingface_hub"
      ],
      "execution_count": null,
      "outputs": []
    },
    {
      "cell_type": "code",
      "source": [
        "from huggingface_hub import login\n",
        "\n",
        "# Use your API token here\n",
        "login(\"\")"
      ],
      "metadata": {
        "id": "FrzzflezGUaV"
      },
      "id": "FrzzflezGUaV",
      "execution_count": 5,
      "outputs": []
    },
    {
      "cell_type": "code",
      "source": [
        "from peft import PeftModel, PeftConfig\n",
        "from transformers import AutoModelForCausalLM, AutoTokenizer\n",
        "import torch"
      ],
      "metadata": {
        "id": "-5S9sPvUGw-j"
      },
      "id": "-5S9sPvUGw-j",
      "execution_count": 2,
      "outputs": []
    },
    {
      "cell_type": "code",
      "source": [
        "token = \"\"\n",
        "\n",
        "config = PeftConfig.from_pretrained(\"monsterapi/gemma-2b-lora-maths-orca-200k\")\n",
        "base_model = AutoModelForCausalLM.from_pretrained(\"google/gemma-2b\")\n",
        "model = PeftModel.from_pretrained(base_model, \"monsterapi/gemma-2b-lora-maths-orca-200k\")\n",
        "\n",
        "\n",
        "model.eval()\n"
      ],
      "metadata": {
        "id": "XVSqbV5zG07z",
        "collapsed": true
      },
      "id": "XVSqbV5zG07z",
      "execution_count": null,
      "outputs": []
    },
    {
      "cell_type": "code",
      "source": [
        "# Initialize tokenizer\n",
        "tokenizer = AutoTokenizer.from_pretrained(\"google/gemma-2b\", use_auth_token=token)\n",
        "\n",
        "# Set device (CPU, CUDA, or MPS)\n",
        "device = torch.device(\"mps\" if torch.backends.mps.is_available() else \"cuda\" if torch.cuda.is_available() else \"cpu\")\n"
      ],
      "metadata": {
        "id": "rBd5D11vO0mO"
      },
      "id": "rBd5D11vO0mO",
      "execution_count": null,
      "outputs": []
    },
    {
      "cell_type": "code",
      "source": [
        "# Tokenize input and generate output\n",
        "inputs = tokenizer(\"There were 12 roses, 2 orchids, and 5 lilies in the vase. Jessica cut some more roses, orchids, and lilies from her flower garden. There are now 10 roses, 21 orchids, and 15 lilies in the vase. How many roses, orchids, and lilies did she cut from her garden?\", return_tensors=\"pt\")\n",
        "outputs = model.generate(input_ids=inputs[\"input_ids\"].to(device), max_new_tokens=800)\n",
        "\n",
        "# Decode and print output\n",
        "print(tokenizer.batch_decode(outputs, skip_special_tokens=True)[0])"
      ],
      "metadata": {
        "colab": {
          "base_uri": "https://localhost:8080/"
        },
        "id": "HGvZoiK2wDsU",
        "outputId": "52ac4976-95f3-4458-beaf-abe2857c5c8e"
      },
      "id": "HGvZoiK2wDsU",
      "execution_count": 9,
      "outputs": [
        {
          "output_type": "stream",
          "name": "stdout",
          "text": [
            "There were 12 roses, 2 orchids, and 5 lilies in the vase. Jessica cut some more roses, orchids, and lilies from her flower garden. There are now 10 roses, 21 orchids, and 15 lilies in the vase. How many roses, orchids, and lilies did she cut from her garden?\n",
            "\n",
            "Step 1\n",
            "1 of 2\n",
            "\n",
            "The total number of roses, orchids, and lilies in the vase before Jessica cut more is 12 roses, 2 orchids, and 5 lilies.\n",
            "\n",
            "The total number of roses, orchids, and lilies after Jessica cut more is 10 roses, 21 orchids, and 15 lilies.\n",
            "\n",
            "The number of roses Jessica cut from her garden is 10 - 12 = -2.\n",
            "\n",
            "The number of orchids Jessica cut from her garden is 21 - 2 = 19.\n",
            "\n",
            "The number of lilies Jessica cut from her garden is 15 - 5 = 10.\n",
            "\n",
            "Result\n",
            "2 of 2\n",
            "\n",
            "-2 roses, 19 orchids, and 10 lilies.\n"
          ]
        }
      ]
    }
  ],
  "metadata": {
    "kernelspec": {
      "display_name": "Python 3",
      "language": "python",
      "name": "python3"
    },
    "language_info": {
      "codemirror_mode": {
        "name": "ipython",
        "version": 3
      },
      "file_extension": ".py",
      "mimetype": "text/x-python",
      "name": "python",
      "nbconvert_exporter": "python",
      "pygments_lexer": "ipython3",
      "version": "3.10.10"
    },
    "colab": {
      "provenance": [],
      "name": "gemma_lora"
    }
  },
  "nbformat": 4,
  "nbformat_minor": 5
}