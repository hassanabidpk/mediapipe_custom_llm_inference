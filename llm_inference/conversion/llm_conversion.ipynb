{
  "nbformat": 4,
  "nbformat_minor": 0,
  "metadata": {
    "colab": {
      "provenance": [],
      "include_colab_link": true
    },
    "kernelspec": {
      "name": "python3",
      "display_name": "Python 3"
    },
    "language_info": {
      "name": "python"
    },
    "widgets": {
      "application/vnd.jupyter.widget-state+json": {
        "265bae36903244da9b7e7d7ed8db63b9": {
          "model_module": "@jupyter-widgets/output",
          "model_name": "OutputModel",
          "model_module_version": "1.0.0",
          "state": {
            "_dom_classes": [],
            "_model_module": "@jupyter-widgets/output",
            "_model_module_version": "1.0.0",
            "_model_name": "OutputModel",
            "_view_count": null,
            "_view_module": "@jupyter-widgets/output",
            "_view_module_version": "1.0.0",
            "_view_name": "OutputView",
            "layout": "IPY_MODEL_d131e3c6bbff4efca8f5da683455d1ff",
            "msg_id": "",
            "outputs": [
              {
                "output_type": "stream",
                "name": "stdout",
                "text": [
                  "Setup done.\n"
                ]
              }
            ]
          }
        },
        "d131e3c6bbff4efca8f5da683455d1ff": {
          "model_module": "@jupyter-widgets/base",
          "model_name": "LayoutModel",
          "model_module_version": "1.2.0",
          "state": {
            "_model_module": "@jupyter-widgets/base",
            "_model_module_version": "1.2.0",
            "_model_name": "LayoutModel",
            "_view_count": null,
            "_view_module": "@jupyter-widgets/base",
            "_view_module_version": "1.2.0",
            "_view_name": "LayoutView",
            "align_content": null,
            "align_items": null,
            "align_self": null,
            "border": null,
            "bottom": null,
            "display": null,
            "flex": null,
            "flex_flow": null,
            "grid_area": null,
            "grid_auto_columns": null,
            "grid_auto_flow": null,
            "grid_auto_rows": null,
            "grid_column": null,
            "grid_gap": null,
            "grid_row": null,
            "grid_template_areas": null,
            "grid_template_columns": null,
            "grid_template_rows": null,
            "height": null,
            "justify_content": null,
            "justify_items": null,
            "left": null,
            "margin": null,
            "max_height": null,
            "max_width": null,
            "min_height": null,
            "min_width": null,
            "object_fit": null,
            "object_position": null,
            "order": null,
            "overflow": null,
            "overflow_x": null,
            "overflow_y": null,
            "padding": null,
            "right": null,
            "top": null,
            "visibility": null,
            "width": null
          }
        },
        "9205c43bd2b947a1a74575c41790ccd4": {
          "model_module": "@jupyter-widgets/controls",
          "model_name": "DropdownModel",
          "model_module_version": "1.5.0",
          "state": {
            "_dom_classes": [],
            "_model_module": "@jupyter-widgets/controls",
            "_model_module_version": "1.5.0",
            "_model_name": "DropdownModel",
            "_options_labels": [
              "Gemma 2B",
              "Gemma 7B",
              "Falcon 1B",
              "StableLM 3B",
              "Phi 2"
            ],
            "_view_count": null,
            "_view_module": "@jupyter-widgets/controls",
            "_view_module_version": "1.5.0",
            "_view_name": "DropdownView",
            "description": "model",
            "description_tooltip": null,
            "disabled": false,
            "index": 0,
            "layout": "IPY_MODEL_6647f6e836394d019e42305f92ca7c20",
            "style": "IPY_MODEL_edcecedd037f4fbe83176b7dc4ae14db"
          }
        },
        "6647f6e836394d019e42305f92ca7c20": {
          "model_module": "@jupyter-widgets/base",
          "model_name": "LayoutModel",
          "model_module_version": "1.2.0",
          "state": {
            "_model_module": "@jupyter-widgets/base",
            "_model_module_version": "1.2.0",
            "_model_name": "LayoutModel",
            "_view_count": null,
            "_view_module": "@jupyter-widgets/base",
            "_view_module_version": "1.2.0",
            "_view_name": "LayoutView",
            "align_content": null,
            "align_items": null,
            "align_self": null,
            "border": null,
            "bottom": null,
            "display": null,
            "flex": null,
            "flex_flow": null,
            "grid_area": null,
            "grid_auto_columns": null,
            "grid_auto_flow": null,
            "grid_auto_rows": null,
            "grid_column": null,
            "grid_gap": null,
            "grid_row": null,
            "grid_template_areas": null,
            "grid_template_columns": null,
            "grid_template_rows": null,
            "height": null,
            "justify_content": null,
            "justify_items": null,
            "left": null,
            "margin": null,
            "max_height": null,
            "max_width": null,
            "min_height": null,
            "min_width": null,
            "object_fit": null,
            "object_position": null,
            "order": null,
            "overflow": null,
            "overflow_x": null,
            "overflow_y": null,
            "padding": null,
            "right": null,
            "top": null,
            "visibility": null,
            "width": null
          }
        },
        "edcecedd037f4fbe83176b7dc4ae14db": {
          "model_module": "@jupyter-widgets/controls",
          "model_name": "DescriptionStyleModel",
          "model_module_version": "1.5.0",
          "state": {
            "_model_module": "@jupyter-widgets/controls",
            "_model_module_version": "1.5.0",
            "_model_name": "DescriptionStyleModel",
            "_view_count": null,
            "_view_module": "@jupyter-widgets/base",
            "_view_module_version": "1.2.0",
            "_view_name": "StyleView",
            "description_width": ""
          }
        },
        "28fdc99277c04ec78f1ce5ae6092098e": {
          "model_module": "@jupyter-widgets/controls",
          "model_name": "DropdownModel",
          "model_module_version": "1.5.0",
          "state": {
            "_dom_classes": [],
            "_model_module": "@jupyter-widgets/controls",
            "_model_module_version": "1.5.0",
            "_model_name": "DropdownModel",
            "_options_labels": [
              "cpu",
              "gpu"
            ],
            "_view_count": null,
            "_view_module": "@jupyter-widgets/controls",
            "_view_module_version": "1.5.0",
            "_view_name": "DropdownView",
            "description": "backend",
            "description_tooltip": null,
            "disabled": false,
            "index": 0,
            "layout": "IPY_MODEL_045f5ae91918498ba2b8007083c09242",
            "style": "IPY_MODEL_8d45dce33b3d4206849ef4ceb9cbefb6"
          }
        },
        "045f5ae91918498ba2b8007083c09242": {
          "model_module": "@jupyter-widgets/base",
          "model_name": "LayoutModel",
          "model_module_version": "1.2.0",
          "state": {
            "_model_module": "@jupyter-widgets/base",
            "_model_module_version": "1.2.0",
            "_model_name": "LayoutModel",
            "_view_count": null,
            "_view_module": "@jupyter-widgets/base",
            "_view_module_version": "1.2.0",
            "_view_name": "LayoutView",
            "align_content": null,
            "align_items": null,
            "align_self": null,
            "border": null,
            "bottom": null,
            "display": null,
            "flex": null,
            "flex_flow": null,
            "grid_area": null,
            "grid_auto_columns": null,
            "grid_auto_flow": null,
            "grid_auto_rows": null,
            "grid_column": null,
            "grid_gap": null,
            "grid_row": null,
            "grid_template_areas": null,
            "grid_template_columns": null,
            "grid_template_rows": null,
            "height": null,
            "justify_content": null,
            "justify_items": null,
            "left": null,
            "margin": null,
            "max_height": null,
            "max_width": null,
            "min_height": null,
            "min_width": null,
            "object_fit": null,
            "object_position": null,
            "order": null,
            "overflow": null,
            "overflow_x": null,
            "overflow_y": null,
            "padding": null,
            "right": null,
            "top": null,
            "visibility": null,
            "width": null
          }
        },
        "8d45dce33b3d4206849ef4ceb9cbefb6": {
          "model_module": "@jupyter-widgets/controls",
          "model_name": "DescriptionStyleModel",
          "model_module_version": "1.5.0",
          "state": {
            "_model_module": "@jupyter-widgets/controls",
            "_model_module_version": "1.5.0",
            "_model_name": "DescriptionStyleModel",
            "_view_count": null,
            "_view_module": "@jupyter-widgets/base",
            "_view_module_version": "1.2.0",
            "_view_name": "StyleView",
            "description_width": ""
          }
        },
        "8ca99883f95943858a1a242b2276ff0c": {
          "model_module": "@jupyter-widgets/output",
          "model_name": "OutputModel",
          "model_module_version": "1.0.0",
          "state": {
            "_dom_classes": [],
            "_model_module": "@jupyter-widgets/output",
            "_model_module_version": "1.0.0",
            "_model_name": "OutputModel",
            "_view_count": null,
            "_view_module": "@jupyter-widgets/output",
            "_view_module_version": "1.0.0",
            "_view_name": "OutputView",
            "layout": "IPY_MODEL_4e5febdb6f8f4fe49c2e9cd4619edc8d",
            "msg_id": "",
            "outputs": [
              {
                "output_type": "stream",
                "name": "stdout",
                "text": [
                  "Huggingface token needed for gated model (e.g. Gemma)\n",
                  "You can get it from https://huggingface.co/settings/tokens\n"
                ]
              }
            ]
          }
        },
        "4e5febdb6f8f4fe49c2e9cd4619edc8d": {
          "model_module": "@jupyter-widgets/base",
          "model_name": "LayoutModel",
          "model_module_version": "1.2.0",
          "state": {
            "_model_module": "@jupyter-widgets/base",
            "_model_module_version": "1.2.0",
            "_model_name": "LayoutModel",
            "_view_count": null,
            "_view_module": "@jupyter-widgets/base",
            "_view_module_version": "1.2.0",
            "_view_name": "LayoutView",
            "align_content": null,
            "align_items": null,
            "align_self": null,
            "border": null,
            "bottom": null,
            "display": null,
            "flex": null,
            "flex_flow": null,
            "grid_area": null,
            "grid_auto_columns": null,
            "grid_auto_flow": null,
            "grid_auto_rows": null,
            "grid_column": null,
            "grid_gap": null,
            "grid_row": null,
            "grid_template_areas": null,
            "grid_template_columns": null,
            "grid_template_rows": null,
            "height": null,
            "justify_content": null,
            "justify_items": null,
            "left": null,
            "margin": null,
            "max_height": null,
            "max_width": null,
            "min_height": null,
            "min_width": null,
            "object_fit": null,
            "object_position": null,
            "order": null,
            "overflow": null,
            "overflow_x": null,
            "overflow_y": null,
            "padding": null,
            "right": null,
            "top": null,
            "visibility": null,
            "width": null
          }
        },
        "b8b6c95f474247cfa598e191f8fea647": {
          "model_module": "@jupyter-widgets/controls",
          "model_name": "PasswordModel",
          "model_module_version": "1.5.0",
          "state": {
            "_dom_classes": [],
            "_model_module": "@jupyter-widgets/controls",
            "_model_module_version": "1.5.0",
            "_model_name": "PasswordModel",
            "_view_count": null,
            "_view_module": "@jupyter-widgets/controls",
            "_view_module_version": "1.5.0",
            "_view_name": "PasswordView",
            "continuous_update": true,
            "description": "HF token:",
            "description_tooltip": null,
            "disabled": false,
            "layout": "IPY_MODEL_aca903eb00db4617ac0eadd35fae949c",
            "placeholder": "huggingface token",
            "style": "IPY_MODEL_7fc6d02b145b49cbb8b5f4af8bdf9916",
            "value": ""
          }
        },
        "aca903eb00db4617ac0eadd35fae949c": {
          "model_module": "@jupyter-widgets/base",
          "model_name": "LayoutModel",
          "model_module_version": "1.2.0",
          "state": {
            "_model_module": "@jupyter-widgets/base",
            "_model_module_version": "1.2.0",
            "_model_name": "LayoutModel",
            "_view_count": null,
            "_view_module": "@jupyter-widgets/base",
            "_view_module_version": "1.2.0",
            "_view_name": "LayoutView",
            "align_content": null,
            "align_items": null,
            "align_self": null,
            "border": null,
            "bottom": null,
            "display": null,
            "flex": null,
            "flex_flow": null,
            "grid_area": null,
            "grid_auto_columns": null,
            "grid_auto_flow": null,
            "grid_auto_rows": null,
            "grid_column": null,
            "grid_gap": null,
            "grid_row": null,
            "grid_template_areas": null,
            "grid_template_columns": null,
            "grid_template_rows": null,
            "height": null,
            "justify_content": null,
            "justify_items": null,
            "left": null,
            "margin": null,
            "max_height": null,
            "max_width": null,
            "min_height": null,
            "min_width": null,
            "object_fit": null,
            "object_position": null,
            "order": null,
            "overflow": null,
            "overflow_x": null,
            "overflow_y": null,
            "padding": null,
            "right": null,
            "top": null,
            "visibility": null,
            "width": null
          }
        },
        "7fc6d02b145b49cbb8b5f4af8bdf9916": {
          "model_module": "@jupyter-widgets/controls",
          "model_name": "DescriptionStyleModel",
          "model_module_version": "1.5.0",
          "state": {
            "_model_module": "@jupyter-widgets/controls",
            "_model_module_version": "1.5.0",
            "_model_name": "DescriptionStyleModel",
            "_view_count": null,
            "_view_module": "@jupyter-widgets/base",
            "_view_module_version": "1.2.0",
            "_view_name": "StyleView",
            "description_width": ""
          }
        },
        "2a24d58df34a4680a1303d194ad4afa9": {
          "model_module": "@jupyter-widgets/controls",
          "model_name": "ButtonModel",
          "model_module_version": "1.5.0",
          "state": {
            "_dom_classes": [],
            "_model_module": "@jupyter-widgets/controls",
            "_model_module_version": "1.5.0",
            "_model_name": "ButtonModel",
            "_view_count": null,
            "_view_module": "@jupyter-widgets/controls",
            "_view_module_version": "1.5.0",
            "_view_name": "ButtonView",
            "button_style": "",
            "description": "Start Conversion",
            "disabled": false,
            "icon": "",
            "layout": "IPY_MODEL_5adf825730d746f5bab9ce373706f495",
            "style": "IPY_MODEL_b898bc6419a54d058370400055eb216c",
            "tooltip": ""
          }
        },
        "5adf825730d746f5bab9ce373706f495": {
          "model_module": "@jupyter-widgets/base",
          "model_name": "LayoutModel",
          "model_module_version": "1.2.0",
          "state": {
            "_model_module": "@jupyter-widgets/base",
            "_model_module_version": "1.2.0",
            "_model_name": "LayoutModel",
            "_view_count": null,
            "_view_module": "@jupyter-widgets/base",
            "_view_module_version": "1.2.0",
            "_view_name": "LayoutView",
            "align_content": null,
            "align_items": null,
            "align_self": null,
            "border": null,
            "bottom": null,
            "display": null,
            "flex": null,
            "flex_flow": null,
            "grid_area": null,
            "grid_auto_columns": null,
            "grid_auto_flow": null,
            "grid_auto_rows": null,
            "grid_column": null,
            "grid_gap": null,
            "grid_row": null,
            "grid_template_areas": null,
            "grid_template_columns": null,
            "grid_template_rows": null,
            "height": null,
            "justify_content": null,
            "justify_items": null,
            "left": null,
            "margin": null,
            "max_height": null,
            "max_width": null,
            "min_height": null,
            "min_width": null,
            "object_fit": null,
            "object_position": null,
            "order": null,
            "overflow": null,
            "overflow_x": null,
            "overflow_y": null,
            "padding": null,
            "right": null,
            "top": null,
            "visibility": null,
            "width": null
          }
        },
        "b898bc6419a54d058370400055eb216c": {
          "model_module": "@jupyter-widgets/controls",
          "model_name": "ButtonStyleModel",
          "model_module_version": "1.5.0",
          "state": {
            "_model_module": "@jupyter-widgets/controls",
            "_model_module_version": "1.5.0",
            "_model_name": "ButtonStyleModel",
            "_view_count": null,
            "_view_module": "@jupyter-widgets/base",
            "_view_module_version": "1.2.0",
            "_view_name": "StyleView",
            "button_color": null,
            "font_weight": ""
          }
        },
        "dcbe4cbc14f442778003bc9fe1ed5f71": {
          "model_module": "@jupyter-widgets/output",
          "model_name": "OutputModel",
          "model_module_version": "1.0.0",
          "state": {
            "_dom_classes": [],
            "_model_module": "@jupyter-widgets/output",
            "_model_module_version": "1.0.0",
            "_model_name": "OutputModel",
            "_view_count": null,
            "_view_module": "@jupyter-widgets/output",
            "_view_module_version": "1.0.0",
            "_view_name": "OutputView",
            "layout": "IPY_MODEL_71e8cd8efabe4c7b9cb69ca70c57afc9",
            "msg_id": "",
            "outputs": []
          }
        },
        "71e8cd8efabe4c7b9cb69ca70c57afc9": {
          "model_module": "@jupyter-widgets/base",
          "model_name": "LayoutModel",
          "model_module_version": "1.2.0",
          "state": {
            "_model_module": "@jupyter-widgets/base",
            "_model_module_version": "1.2.0",
            "_model_name": "LayoutModel",
            "_view_count": null,
            "_view_module": "@jupyter-widgets/base",
            "_view_module_version": "1.2.0",
            "_view_name": "LayoutView",
            "align_content": null,
            "align_items": null,
            "align_self": null,
            "border": "1px solid black",
            "bottom": null,
            "display": null,
            "flex": null,
            "flex_flow": null,
            "grid_area": null,
            "grid_auto_columns": null,
            "grid_auto_flow": null,
            "grid_auto_rows": null,
            "grid_column": null,
            "grid_gap": null,
            "grid_row": null,
            "grid_template_areas": null,
            "grid_template_columns": null,
            "grid_template_rows": null,
            "height": null,
            "justify_content": null,
            "justify_items": null,
            "left": null,
            "margin": null,
            "max_height": null,
            "max_width": null,
            "min_height": null,
            "min_width": null,
            "object_fit": null,
            "object_position": null,
            "order": null,
            "overflow": null,
            "overflow_x": null,
            "overflow_y": null,
            "padding": null,
            "right": null,
            "top": null,
            "visibility": null,
            "width": null
          }
        }
      }
    }
  },
  "cells": [
    {
      "cell_type": "markdown",
      "metadata": {
        "id": "view-in-github",
        "colab_type": "text"
      },
      "source": [
        "<a href=\"https://colab.research.google.com/github/hassanabidpk/mediapipe_custom_llm_inference/blob/main/llm_inference/conversion/llm_conversion.ipynb\" target=\"_parent\"><img src=\"https://colab.research.google.com/assets/colab-badge.svg\" alt=\"Open In Colab\"/></a>"
      ]
    },
    {
      "cell_type": "markdown",
      "source": [
        "# LLM Conversion\n",
        "\n",
        "<link rel=\"stylesheet\" href=\"/mediapipe/site.css\">\n",
        "\n",
        "<table align=\"left\" class=\"buttons\">\n",
        "  <td>\n",
        "    <a href=\"https://colab.research.google.com/github/googlesamples/mediapipe/blob/main/examples/llm_inference/conversion/llm_conversion.ipynb\" target=\"_blank\">\n",
        "      <img src=\"https://developers.google.com/static/mediapipe/solutions/customization/colab-logo-32px_1920.png\" alt=\"Colab logo\"> Run in Colab\n",
        "    </a>\n",
        "  </td>\n",
        "\n",
        "  <td>\n",
        "    <a href=\"https://github.com/googlesamples/mediapipe/blob/main/examples/llm_inference/conversion/llm_conversion.ipynb\" target=\"_blank\">\n",
        "      <img src=\"https://developers.google.com/static/mediapipe/solutions/customization/github-logo-32px_1920.png\" alt=\"GitHub logo\">\n",
        "      View on GitHub\n",
        "    </a>\n",
        "  </td>\n",
        "</table>"
      ],
      "metadata": {
        "id": "iJyYBXrg79-N"
      }
    },
    {
      "cell_type": "code",
      "source": [
        "#@title License information { display-mode: \"form\" }\n",
        "#@markdown Copyright 2024 The MediaPipe Authors.\n",
        "#@markdown Licensed under the Apache License, Version 2.0 (the \"License\");\n",
        "#@markdown\n",
        "#@markdown you may not use this file except in compliance with the License.\n",
        "#@markdown You may obtain a copy of the License at\n",
        "#@markdown\n",
        "#@markdown https://www.apache.org/licenses/LICENSE-2.0\n",
        "#@markdown\n",
        "#@markdown Unless required by applicable law or agreed to in writing, software\n",
        "#@markdown distributed under the License is distributed on an \"AS IS\" BASIS,\n",
        "#@markdown WITHOUT WARRANTIES OR CONDITIONS OF ANY KIND, either express or implied.\n",
        "#@markdown See the License for the specific language governing permissions and\n",
        "#@markdown limitations under the License."
      ],
      "metadata": {
        "id": "Gy8YJJJgx_4G"
      },
      "execution_count": null,
      "outputs": []
    },
    {
      "cell_type": "code",
      "execution_count": 1,
      "metadata": {
        "id": "5yYF61P0xseL",
        "colab": {
          "base_uri": "https://localhost:8080/",
          "height": 35,
          "referenced_widgets": [
            "265bae36903244da9b7e7d7ed8db63b9",
            "d131e3c6bbff4efca8f5da683455d1ff"
          ]
        },
        "outputId": "1ad85e12-dfe8-4822-c4ca-d2ee11e7dbb6"
      },
      "outputs": [
        {
          "output_type": "display_data",
          "data": {
            "text/plain": [
              "Output()"
            ],
            "application/vnd.jupyter.widget-view+json": {
              "version_major": 2,
              "version_minor": 0,
              "model_id": "265bae36903244da9b7e7d7ed8db63b9"
            }
          },
          "metadata": {}
        }
      ],
      "source": [
        "# @title Setup { display-mode: \"form\" }\n",
        "# @markdown import ipywidgets\\\n",
        "# @markdown import IPython.display\\\n",
        "# @markdown import os\\\n",
        "# @markdown import huggingface downloader\\\n",
        "# @markdown import mediapipe genai converter\n",
        "import ipywidgets as widgets\n",
        "from IPython.display import display\n",
        "install_out = widgets.Output()\n",
        "display(install_out)\n",
        "with install_out:\n",
        "  !pip install mediapipe\n",
        "  !pip install torch\n",
        "  !pip install huggingface_hub\n",
        "  import os\n",
        "  from huggingface_hub import hf_hub_download\n",
        "  from mediapipe.tasks.python.genai import converter\n",
        "\n",
        "install_out.clear_output()\n",
        "with install_out:\n",
        "  print(\"Setup done.\")\n"
      ]
    },
    {
      "cell_type": "code",
      "source": [
        "# @title Run { display-mode: \"form\"}\n",
        "\n",
        "model = widgets.Dropdown(\n",
        "    options=[\"Gemma 2B\", \"Gemma 2B lora\", \"Gemma 7B\"],\n",
        "    value='Gemma 2B',\n",
        "    description='model',\n",
        "    disabled=False,\n",
        ")\n",
        "\n",
        "backend = widgets.Dropdown(\n",
        "    options=[\"cpu\", \"gpu\"],\n",
        "    value='cpu',\n",
        "    description='backend',\n",
        "    disabled=False,\n",
        ")\n",
        "\n",
        "token = widgets.Password(\n",
        "    value='',\n",
        "    placeholder='huggingface token',\n",
        "    description='HF token:',\n",
        "    disabled=False\n",
        ")\n",
        "\n",
        "options_mapping = {\n",
        "              'Gemma 2B': ['cpu', 'gpu'],\n",
        "              'Gemma 2B lora': ['gpu'],\n",
        "              'Gemma 7B': ['gpu'],\n",
        "}\n",
        "\n",
        "def on_use_gpu(change):\n",
        "  selected_value = change['new']\n",
        "\n",
        "  if selected_value in options_mapping:\n",
        "    backend.options = options_mapping[selected_value]\n",
        "    backend.value = options_mapping[selected_value][0]\n",
        "  else:\n",
        "    token.options = []\n",
        "    token.value = None\n",
        "\n",
        "def on_change_model(change):\n",
        "  selected_values = ['Gemma 2B','Gemma 7B']\n",
        "\n",
        "  if change['new'] in selected_values:\n",
        "    token.layout.display = 'flex'\n",
        "  else:\n",
        "    token.layout.display = 'none'\n",
        "\n",
        "model.observe(on_change_model, names='value')\n",
        "model.observe(on_use_gpu, names='value')\n",
        "\n",
        "\n",
        "display(model)\n",
        "display(backend)\n",
        "\n",
        "token_description = widgets.Output()\n",
        "with token_description:\n",
        "  print(\"Huggingface token needed for gated model (e.g. Gemma)\")\n",
        "  print(\"You can get it from https://huggingface.co/settings/tokens\")\n",
        "\n",
        "display(token_description)\n",
        "display(token)\n",
        "\n",
        "def gemma2b_lora_download(token):\n",
        "  REPO_ID = \"monsterapi/gemma-2b-lora-maths-orca-200k\"\n",
        "  FILENAMES = [\"tokenizer.json\", \"tokenizer_config.json\", \"adapter_model.safetensors\"]\n",
        "  os.environ['HF_TOKEN'] = token\n",
        "  with out:\n",
        "    for filename in FILENAMES:\n",
        "      hf_hub_download(repo_id=REPO_ID, filename=filename, local_dir=\"./gemma-2b-lora-it\")\n",
        "\n",
        "def gemma2b_download(token):\n",
        "  REPO_ID = \"google/gemma-2b-it\"\n",
        "  FILENAMES = [\"tokenizer.json\", \"tokenizer_config.json\", \"model-00001-of-00002.safetensors\", \"model-00002-of-00002.safetensors\"]\n",
        "  os.environ['HF_TOKEN'] = token\n",
        "  with out:\n",
        "    for filename in FILENAMES:\n",
        "      hf_hub_download(repo_id=REPO_ID, filename=filename, local_dir=\"./gemma-2b-it\")\n",
        "\n",
        "def gemma7b_download(token):\n",
        "  REPO_ID = \"google/gemma-1.1-7b-it\"\n",
        "  FILENAMES = [\"tokenizer.json\", \"tokenizer_config.json\", \"model-00001-of-00004.safetensors\", \"model-00002-of-00004.safetensors\", \"model-00003-of-00004.safetensors\", \"model-00004-of-00004.safetensors\"]\n",
        "  os.environ['HF_TOKEN'] = token\n",
        "  with out:\n",
        "    for filename in FILENAMES:\n",
        "      hf_hub_download(repo_id=REPO_ID, filename=filename, local_dir=\"./gemma-1.1-7b-it\")\n",
        "\n",
        "\n",
        "def gemma2b_lora_convert_config(backend):\n",
        "  input_ckpt = '/content/gemma-2b-lora-it/'\n",
        "  vocab_model_file = '/content/gemma-2b-lora-it/'\n",
        "  output_dir = '/content/intermediate/gemma-2b-lora-it/'\n",
        "  output_tflite_file = f'/content/converted_models/gemma_{backend}.bin'\n",
        "  lora_output_tflite_file = f'/content/converted_models/gemma_lora_{backend}.bin'\n",
        "  return converter.ConversionConfig(input_ckpt=input_ckpt, ckpt_format='safetensors', model_type='GEMMA_2B', backend=backend, output_dir=output_dir, combine_file_only=False, vocab_model_file=vocab_model_file, output_tflite_file=output_tflite_file, lora_output_tflite_file=lora_output_tflite_file)\n",
        "\n",
        "def gemma2b_convert_config(backend):\n",
        "  input_ckpt = '/content/gemma-2b-it/'\n",
        "  vocab_model_file = '/content/gemma-2b-it/'\n",
        "  output_dir = '/content/intermediate/gemma-2b-it/'\n",
        "  output_tflite_file = f'/content/converted_models/gemma_{backend}.bin'\n",
        "  return converter.ConversionConfig(input_ckpt=input_ckpt, ckpt_format='safetensors', model_type='GEMMA_2B', backend=backend, output_dir=output_dir, combine_file_only=False, vocab_model_file=vocab_model_file, output_tflite_file=output_tflite_file)\n",
        "\n",
        "def gemma7b_convert_config(backend):\n",
        "  input_ckpt = '/content//gemma-1.1-7b-it/'\n",
        "  vocab_model_file = '/content//gemma-1.1-7b-it/'\n",
        "  output_dir = '/content/intermediate//gemma-1.1-7b-it/'\n",
        "  output_tflite_file = f'/content/converted_models/gemma_{backend}.bin'\n",
        "  return converter.ConversionConfig(input_ckpt=input_ckpt, ckpt_format='safetensors', model_type='GEMMA_7B', backend=backend, output_dir=output_dir, combine_file_only=False, vocab_model_file=vocab_model_file, output_tflite_file=output_tflite_file)\n",
        "\n",
        "\n",
        "def on_button_clicked(b):\n",
        "  try:\n",
        "    out.clear_output()\n",
        "    with out:\n",
        "      print(\"Downloading model ...\")\n",
        "    button.description = \"Downloading ...\"\n",
        "    button.disabled = True\n",
        "    model.disabled = True\n",
        "    backend.disabled = True\n",
        "\n",
        "    if model.value == 'Gemma 2B':\n",
        "      gemma2b_download(token.value)\n",
        "    elif model.value == 'Gemma 2B lora':\n",
        "      gemma2b_lora_download(token.value)\n",
        "    elif model.value == 'Gemma 7B':\n",
        "      gemma7b_download(token.value)\n",
        "\n",
        "    else:\n",
        "      raise Exception(\"Invalid model\")\n",
        "\n",
        "    with out:\n",
        "      print(\"Done\")\n",
        "      print(\"Converting model ...\")\n",
        "\n",
        "    button.description = \"Converting ...\"\n",
        "\n",
        "    if model.value == 'Gemma 2B':\n",
        "      config = gemma2b_convert_config(backend.value)\n",
        "    elif model.value == 'Gemma 2B lora':\n",
        "      config = gemma2b_lora_convert_config('gpu')\n",
        "    elif model.value == 'Gemma 7B':\n",
        "      config = gemma7b_convert_config(backend.value)\n",
        "    else:\n",
        "      with out:\n",
        "        raise Exception(\"Invalid model\")\n",
        "      return\n",
        "\n",
        "    with out:\n",
        "      converter.convert_checkpoint(config)\n",
        "      print(\"Done\")\n",
        "\n",
        "    button.description = \"Start Conversion\"\n",
        "    button.disabled = False\n",
        "    model.disabled = False\n",
        "    backend.disabled = False\n",
        "\n",
        "  except Exception as e:\n",
        "    button.description = \"Start Conversion\"\n",
        "    button.disabled = False\n",
        "    model.disabled = False\n",
        "    backend.disabled = False\n",
        "    with out:\n",
        "      print(e)\n",
        "\n",
        "\n",
        "button = widgets.Button(description=\"Start Conversion\")\n",
        "\n",
        "button.on_click(on_button_clicked)\n",
        "display(button)\n",
        "\n",
        "out = widgets.Output(layout={'border': '1px solid black'})\n",
        "display(out)\n",
        "\n",
        "print(\"\\nNotice: Converted models are saved under ./converted_models\")"
      ],
      "metadata": {
        "id": "LSSxrLyQPofw",
        "colab": {
          "base_uri": "https://localhost:8080/",
          "height": 216,
          "referenced_widgets": [
            "9205c43bd2b947a1a74575c41790ccd4",
            "6647f6e836394d019e42305f92ca7c20",
            "edcecedd037f4fbe83176b7dc4ae14db",
            "28fdc99277c04ec78f1ce5ae6092098e",
            "045f5ae91918498ba2b8007083c09242",
            "8d45dce33b3d4206849ef4ceb9cbefb6",
            "8ca99883f95943858a1a242b2276ff0c",
            "4e5febdb6f8f4fe49c2e9cd4619edc8d",
            "b8b6c95f474247cfa598e191f8fea647",
            "aca903eb00db4617ac0eadd35fae949c",
            "7fc6d02b145b49cbb8b5f4af8bdf9916",
            "2a24d58df34a4680a1303d194ad4afa9",
            "5adf825730d746f5bab9ce373706f495",
            "b898bc6419a54d058370400055eb216c",
            "dcbe4cbc14f442778003bc9fe1ed5f71",
            "71e8cd8efabe4c7b9cb69ca70c57afc9"
          ]
        },
        "outputId": "4cea2d3c-8670-49ea-966a-37055c166d05"
      },
      "execution_count": 2,
      "outputs": [
        {
          "output_type": "display_data",
          "data": {
            "text/plain": [
              "Dropdown(description='model', options=('Gemma 2B', 'Gemma 7B', 'Falcon 1B', 'StableLM 3B', 'Phi 2'), value='Ge…"
            ],
            "application/vnd.jupyter.widget-view+json": {
              "version_major": 2,
              "version_minor": 0,
              "model_id": "9205c43bd2b947a1a74575c41790ccd4"
            }
          },
          "metadata": {}
        },
        {
          "output_type": "display_data",
          "data": {
            "text/plain": [
              "Dropdown(description='backend', options=('cpu', 'gpu'), value='cpu')"
            ],
            "application/vnd.jupyter.widget-view+json": {
              "version_major": 2,
              "version_minor": 0,
              "model_id": "28fdc99277c04ec78f1ce5ae6092098e"
            }
          },
          "metadata": {}
        },
        {
          "output_type": "display_data",
          "data": {
            "text/plain": [
              "Output()"
            ],
            "application/vnd.jupyter.widget-view+json": {
              "version_major": 2,
              "version_minor": 0,
              "model_id": "8ca99883f95943858a1a242b2276ff0c"
            }
          },
          "metadata": {}
        },
        {
          "output_type": "display_data",
          "data": {
            "text/plain": [
              "Password(description='HF token:', placeholder='huggingface token')"
            ],
            "application/vnd.jupyter.widget-view+json": {
              "version_major": 2,
              "version_minor": 0,
              "model_id": "b8b6c95f474247cfa598e191f8fea647"
            }
          },
          "metadata": {}
        },
        {
          "output_type": "display_data",
          "data": {
            "text/plain": [
              "Button(description='Start Conversion', style=ButtonStyle())"
            ],
            "application/vnd.jupyter.widget-view+json": {
              "version_major": 2,
              "version_minor": 0,
              "model_id": "2a24d58df34a4680a1303d194ad4afa9"
            }
          },
          "metadata": {}
        },
        {
          "output_type": "display_data",
          "data": {
            "text/plain": [
              "Output(layout=Layout(border='1px solid black'))"
            ],
            "application/vnd.jupyter.widget-view+json": {
              "version_major": 2,
              "version_minor": 0,
              "model_id": "dcbe4cbc14f442778003bc9fe1ed5f71"
            }
          },
          "metadata": {}
        },
        {
          "output_type": "stream",
          "name": "stdout",
          "text": [
            "\n",
            "Notice: Converted models are saved under ./converted_models\n"
          ]
        }
      ]
    },
    {
      "cell_type": "code",
      "source": [
        "# @title Save to google drive { display-mode: \"form\"}\n",
        "google_drive_directory = \"converted_models\" #@param {type:\"string\"}\n",
        "from google.colab import drive\n",
        "drive.mount('/content/drive')\n",
        "print(\"Copying models ...\")\n",
        "!mkdir -p /content/drive/MyDrive/$google_drive_directory\n",
        "!cp -r -f /content/converted_models/* /content/drive/MyDrive/$google_drive_directory\n",
        "print(\"Done\")"
      ],
      "metadata": {
        "id": "Am3idu-FRkqf",
        "colab": {
          "base_uri": "https://localhost:8080/"
        },
        "outputId": "16ca6ea3-b4cc-4820-815e-fafaa73e7bf8"
      },
      "execution_count": null,
      "outputs": [
        {
          "output_type": "stream",
          "name": "stdout",
          "text": [
            "Drive already mounted at /content/drive; to attempt to forcibly remount, call drive.mount(\"/content/drive\", force_remount=True).\n",
            "copying models ...\n",
            "done\n"
          ]
        }
      ]
    }
  ]
}